{
 "cells": [
  {
   "cell_type": "code",
   "execution_count": 28,
   "metadata": {},
   "outputs": [],
   "source": [
    "# import sqlite3\n",
    "\n",
    "# conn = sqlite3.connect('/Users/robertoroselli/Code/hotel-city-classifier/hotel.db')\n",
    "# cur = conn.cursor()\n",
    "\n",
    "# cur.execute(\"\"\"\n",
    "# drop table if exists ___\n",
    "# ;        \n",
    "# \"\"\")\n",
    "# cur.execute(\"\"\"\n",
    "# create table if not exists ___ (\n",
    "#     ID int,\n",
    "# \n",
    "#     \n",
    "#     SCRAPED_TIMESTAMP timestamp default current_timestamp,\n",
    "#     INSERT_UPDATE_TIMESTAMP timestamp default current_timestamp\n",
    "# )\n",
    "# \"\"\")\n",
    "\n",
    "# conn.commit()\n",
    "# conn.close()"
   ]
  }
 ],
 "metadata": {
  "kernelspec": {
   "display_name": "nb_scraper",
   "language": "python",
   "name": "python3"
  },
  "language_info": {
   "codemirror_mode": {
    "name": "ipython",
    "version": 3
   },
   "file_extension": ".py",
   "mimetype": "text/x-python",
   "name": "python",
   "nbconvert_exporter": "python",
   "pygments_lexer": "ipython3",
   "version": "3.9.15"
  }
 },
 "nbformat": 4,
 "nbformat_minor": 2
}
