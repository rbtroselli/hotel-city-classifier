{
 "cells": [
  {
   "cell_type": "code",
   "execution_count": 5,
   "metadata": {},
   "outputs": [
    {
     "name": "stdout",
     "output_type": "stream",
     "text": [
      "496827766569872311\n"
     ]
    }
   ],
   "source": [
    "url = 'https://www.tripadvisor.com/Hotel_Review-g187791-d2299601-Reviews-Inn_Rome_Rooms_Suites-Rome_Lazio.html'\n",
    "\n",
    "import hashlib\n",
    "\n",
    "def _get_hashed_id(string):\n",
    "    # Calculate the SHA-256 hash of the string\n",
    "    hash_value = hashlib.sha256(string.encode()).hexdigest()\n",
    "    # Convert the hexadecimal hash value to an integer\n",
    "    hash_int = int(hash_value, 16)\n",
    "    # Truncate the integer to 20 digits. It has sufficient collision resistance for this use case\n",
    "    truncated_hash = hash_int % (10 ** 18)\n",
    "    return truncated_hash\n",
    "\n",
    "print(_get_hashed_id(url))\n",
    "\n"
   ]
  }
 ],
 "metadata": {
  "kernelspec": {
   "display_name": "nb_scraper",
   "language": "python",
   "name": "python3"
  },
  "language_info": {
   "codemirror_mode": {
    "name": "ipython",
    "version": 3
   },
   "file_extension": ".py",
   "mimetype": "text/x-python",
   "name": "python",
   "nbconvert_exporter": "python",
   "pygments_lexer": "ipython3",
   "version": "3.9.15"
  }
 },
 "nbformat": 4,
 "nbformat_minor": 2
}
