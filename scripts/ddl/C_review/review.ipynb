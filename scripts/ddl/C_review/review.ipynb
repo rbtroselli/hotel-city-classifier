{
 "cells": [
  {
   "cell_type": "code",
   "execution_count": 2,
   "metadata": {},
   "outputs": [],
   "source": [
    "# import sqlite3\n",
    "\n",
    "# conn = sqlite3.connect('/Users/robertoroselli/Code/hotel-city-classifier/hotel.db')\n",
    "# cur = conn.cursor()\n",
    "\n",
    "# cur.execute(\"\"\"\n",
    "# drop table if exists REVIEW\n",
    "# ;        \n",
    "# \"\"\")\n",
    "# cur.execute(\"\"\"\n",
    "# create table if not exists REVIEW (\n",
    "#     ID int,\n",
    "#     URL varchar,\n",
    "#     TITLE varchar,\n",
    "#     TEXT varchar,\n",
    "#     RATING int,\n",
    "#     MONTH_OF_REVIEW varchar,\n",
    "#     YEAR_OF_REVIEW int,\n",
    "#     MONTH_OF_STAY int,\n",
    "#     YEAR_OF_STAY int,\n",
    "#     LIKES int,\n",
    "#     PICS_FLAG int,\n",
    "#     LANGUAGE varchar,\n",
    "#     RESPONSE_FROM varchar,\n",
    "#     RESPONSE_TEXT varchar,\n",
    "#     RESPONSE_DATE varchar,\n",
    "#     RESPONSE_LANGUAGE varchar,\n",
    "#     USER_ID int,\n",
    "#     HOTEL_ID int,    \n",
    "#     SCRAPED_TIMESTAMP timestamp default current_timestamp,\n",
    "#     INSERT_UPDATE_TIMESTAMP timestamp default current_timestamp\n",
    "# )\n",
    "# \"\"\")\n",
    "\n",
    "# cur.execute(\"\"\"\n",
    "# update result set REVIEWS_SCRAPED_FLAG = false where REVIEWS_SCRAPED_FLAG is true;\n",
    "# \"\"\")            \n",
    "\n",
    "# conn.commit()\n",
    "# conn.close()"
   ]
  }
 ],
 "metadata": {
  "kernelspec": {
   "display_name": "nb_scraper",
   "language": "python",
   "name": "python3"
  },
  "language_info": {
   "codemirror_mode": {
    "name": "ipython",
    "version": 3
   },
   "file_extension": ".py",
   "mimetype": "text/x-python",
   "name": "python",
   "nbconvert_exporter": "python",
   "pygments_lexer": "ipython3",
   "version": "3.9.15"
  }
 },
 "nbformat": 4,
 "nbformat_minor": 2
}
