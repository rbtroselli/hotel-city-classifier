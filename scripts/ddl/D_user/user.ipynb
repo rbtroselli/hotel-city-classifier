{
 "cells": [
  {
   "cell_type": "code",
   "execution_count": 1,
   "metadata": {},
   "outputs": [],
   "source": [
    "# import sqlite3\n",
    "\n",
    "# conn = sqlite3.connect('/Users/robertoroselli/Code/hotel-city-classifier/hotel.db')\n",
    "# cur = conn.cursor()\n",
    "\n",
    "# # # # # cur.execute(\"\"\"\n",
    "# # # # # drop table if exists USER\n",
    "# # # # # ;        \n",
    "# # # # # \"\"\")\n",
    "# cur.execute(\"\"\"\n",
    "# create table if not exists USER (\n",
    "#     ID int primary key,\n",
    "#     URL varchar,\n",
    "#     NAME varchar,\n",
    "#     NAME_SHOWN varchar,\n",
    "#     CONTRIBUTIONS int,\n",
    "#     HELPFUL_VOTES int,\n",
    "#     LOCATION varchar,\n",
    "#     SCRAPED_TIMESTAMP timestamp default current_timestamp,\n",
    "#     INSERT_UPDATE_TIMESTAMP timestamp default current_timestamp\n",
    "# )\n",
    "# \"\"\")\n",
    "\n",
    "# conn.commit()\n",
    "# conn.close()"
   ]
  }
 ],
 "metadata": {
  "kernelspec": {
   "display_name": "nb_scraper",
   "language": "python",
   "name": "python3"
  },
  "language_info": {
   "codemirror_mode": {
    "name": "ipython",
    "version": 3
   },
   "file_extension": ".py",
   "mimetype": "text/x-python",
   "name": "python",
   "nbconvert_exporter": "python",
   "pygments_lexer": "ipython3",
   "version": "3.9.15"
  }
 },
 "nbformat": 4,
 "nbformat_minor": 2
}
