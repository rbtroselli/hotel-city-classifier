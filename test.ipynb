{
 "cells": [
  {
   "cell_type": "code",
   "execution_count": 25,
   "metadata": {},
   "outputs": [],
   "source": [
    "import undetected_chromedriver as uc\n",
    "from selenium import webdriver\n",
    "from selenium.webdriver.chrome.options import Options\n",
    "from selenium.webdriver.common.by import By \n",
    "from selenium.webdriver.support.ui import WebDriverWait\n",
    "from selenium.webdriver.support import expected_conditions as EC\n",
    "import time\n",
    "import random"
   ]
  },
  {
   "cell_type": "code",
   "execution_count": 35,
   "metadata": {},
   "outputs": [
    {
     "name": "stdout",
     "output_type": "stream",
     "text": [
      "https://www.tripadvisor.com/Hotels-g187791-oa{}-Rome_Lazio-Hotels.html\n"
     ]
    }
   ],
   "source": [
    "# avanzamenti di pagina vanno di 30 in 30: 0,30,60,90...\n",
    "# ogni volta ricompare il bottone See all\n",
    "url = 'https://www.tripadvisor.com/Hotels-g187791-oa{}-Rome_Lazio-Hotels.html'\n",
    "print(url)"
   ]
  },
  {
   "cell_type": "code",
   "execution_count": 22,
   "metadata": {},
   "outputs": [],
   "source": [
    "def _get_driver():\n",
    "    \"\"\" Return a driver to use selenium \"\"\"\n",
    "    user_data_dir = './browser/user_data_uc' # local data folder\n",
    "    driver = uc.Chrome(headless=False, user_data_dir=user_data_dir)\n",
    "    return driver"
   ]
  },
  {
   "cell_type": "code",
   "execution_count": 37,
   "metadata": {},
   "outputs": [
    {
     "name": "stdout",
     "output_type": "stream",
     "text": [
      "https://www.tripadvisor.com/Hotels-g187791-oa300-Rome_Lazio-Hotels.html\n",
      "<undetected_chromedriver.webelement.WebElement (session=\"337fc70d4243f49de88d42f62c38eecc\", element=\"12DB31863AFC4D35738EAA6E0BF01A24_element_95\")>\n",
      "<undetected_chromedriver.webelement.WebElement (session=\"337fc70d4243f49de88d42f62c38eecc\", element=\"12DB31863AFC4D35738EAA6E0BF01A24_element_96\")>\n",
      "<undetected_chromedriver.webelement.WebElement (session=\"337fc70d4243f49de88d42f62c38eecc\", element=\"12DB31863AFC4D35738EAA6E0BF01A24_element_97\")>\n",
      "<undetected_chromedriver.webelement.WebElement (session=\"337fc70d4243f49de88d42f62c38eecc\", element=\"12DB31863AFC4D35738EAA6E0BF01A24_element_98\")>\n",
      "<undetected_chromedriver.webelement.WebElement (session=\"337fc70d4243f49de88d42f62c38eecc\", element=\"12DB31863AFC4D35738EAA6E0BF01A24_element_99\")>\n",
      "<undetected_chromedriver.webelement.WebElement (session=\"337fc70d4243f49de88d42f62c38eecc\", element=\"12DB31863AFC4D35738EAA6E0BF01A24_element_100\")>\n",
      "<undetected_chromedriver.webelement.WebElement (session=\"337fc70d4243f49de88d42f62c38eecc\", element=\"12DB31863AFC4D35738EAA6E0BF01A24_element_101\")>\n",
      "<undetected_chromedriver.webelement.WebElement (session=\"337fc70d4243f49de88d42f62c38eecc\", element=\"12DB31863AFC4D35738EAA6E0BF01A24_element_102\")>\n",
      "<undetected_chromedriver.webelement.WebElement (session=\"337fc70d4243f49de88d42f62c38eecc\", element=\"12DB31863AFC4D35738EAA6E0BF01A24_element_103\")>\n",
      "<undetected_chromedriver.webelement.WebElement (session=\"337fc70d4243f49de88d42f62c38eecc\", element=\"12DB31863AFC4D35738EAA6E0BF01A24_element_104\")>\n",
      "<undetected_chromedriver.webelement.WebElement (session=\"337fc70d4243f49de88d42f62c38eecc\", element=\"12DB31863AFC4D35738EAA6E0BF01A24_element_105\")>\n",
      "<undetected_chromedriver.webelement.WebElement (session=\"337fc70d4243f49de88d42f62c38eecc\", element=\"12DB31863AFC4D35738EAA6E0BF01A24_element_106\")>\n",
      "<undetected_chromedriver.webelement.WebElement (session=\"337fc70d4243f49de88d42f62c38eecc\", element=\"12DB31863AFC4D35738EAA6E0BF01A24_element_107\")>\n",
      "<undetected_chromedriver.webelement.WebElement (session=\"337fc70d4243f49de88d42f62c38eecc\", element=\"12DB31863AFC4D35738EAA6E0BF01A24_element_108\")>\n",
      "<undetected_chromedriver.webelement.WebElement (session=\"337fc70d4243f49de88d42f62c38eecc\", element=\"12DB31863AFC4D35738EAA6E0BF01A24_element_109\")>\n",
      "<undetected_chromedriver.webelement.WebElement (session=\"337fc70d4243f49de88d42f62c38eecc\", element=\"12DB31863AFC4D35738EAA6E0BF01A24_element_110\")>\n",
      "<undetected_chromedriver.webelement.WebElement (session=\"337fc70d4243f49de88d42f62c38eecc\", element=\"12DB31863AFC4D35738EAA6E0BF01A24_element_111\")>\n",
      "<undetected_chromedriver.webelement.WebElement (session=\"337fc70d4243f49de88d42f62c38eecc\", element=\"12DB31863AFC4D35738EAA6E0BF01A24_element_112\")>\n",
      "<undetected_chromedriver.webelement.WebElement (session=\"337fc70d4243f49de88d42f62c38eecc\", element=\"12DB31863AFC4D35738EAA6E0BF01A24_element_113\")>\n",
      "<undetected_chromedriver.webelement.WebElement (session=\"337fc70d4243f49de88d42f62c38eecc\", element=\"12DB31863AFC4D35738EAA6E0BF01A24_element_114\")>\n",
      "<undetected_chromedriver.webelement.WebElement (session=\"337fc70d4243f49de88d42f62c38eecc\", element=\"12DB31863AFC4D35738EAA6E0BF01A24_element_115\")>\n",
      "<undetected_chromedriver.webelement.WebElement (session=\"337fc70d4243f49de88d42f62c38eecc\", element=\"12DB31863AFC4D35738EAA6E0BF01A24_element_116\")>\n",
      "<undetected_chromedriver.webelement.WebElement (session=\"337fc70d4243f49de88d42f62c38eecc\", element=\"12DB31863AFC4D35738EAA6E0BF01A24_element_117\")>\n",
      "<undetected_chromedriver.webelement.WebElement (session=\"337fc70d4243f49de88d42f62c38eecc\", element=\"12DB31863AFC4D35738EAA6E0BF01A24_element_118\")>\n",
      "<undetected_chromedriver.webelement.WebElement (session=\"337fc70d4243f49de88d42f62c38eecc\", element=\"12DB31863AFC4D35738EAA6E0BF01A24_element_119\")>\n",
      "<undetected_chromedriver.webelement.WebElement (session=\"337fc70d4243f49de88d42f62c38eecc\", element=\"12DB31863AFC4D35738EAA6E0BF01A24_element_120\")>\n",
      "<undetected_chromedriver.webelement.WebElement (session=\"337fc70d4243f49de88d42f62c38eecc\", element=\"12DB31863AFC4D35738EAA6E0BF01A24_element_121\")>\n",
      "<undetected_chromedriver.webelement.WebElement (session=\"337fc70d4243f49de88d42f62c38eecc\", element=\"12DB31863AFC4D35738EAA6E0BF01A24_element_122\")>\n",
      "<undetected_chromedriver.webelement.WebElement (session=\"337fc70d4243f49de88d42f62c38eecc\", element=\"12DB31863AFC4D35738EAA6E0BF01A24_element_123\")>\n",
      "<undetected_chromedriver.webelement.WebElement (session=\"337fc70d4243f49de88d42f62c38eecc\", element=\"12DB31863AFC4D35738EAA6E0BF01A24_element_124\")>\n",
      "<undetected_chromedriver.webelement.WebElement (session=\"337fc70d4243f49de88d42f62c38eecc\", element=\"12DB31863AFC4D35738EAA6E0BF01A24_element_125\")>\n",
      "<undetected_chromedriver.webelement.WebElement (session=\"337fc70d4243f49de88d42f62c38eecc\", element=\"12DB31863AFC4D35738EAA6E0BF01A24_element_126\")>\n",
      "<undetected_chromedriver.webelement.WebElement (session=\"337fc70d4243f49de88d42f62c38eecc\", element=\"12DB31863AFC4D35738EAA6E0BF01A24_element_127\")>\n",
      "<undetected_chromedriver.webelement.WebElement (session=\"337fc70d4243f49de88d42f62c38eecc\", element=\"12DB31863AFC4D35738EAA6E0BF01A24_element_128\")>\n",
      "<undetected_chromedriver.webelement.WebElement (session=\"337fc70d4243f49de88d42f62c38eecc\", element=\"12DB31863AFC4D35738EAA6E0BF01A24_element_129\")>\n",
      "<undetected_chromedriver.webelement.WebElement (session=\"337fc70d4243f49de88d42f62c38eecc\", element=\"12DB31863AFC4D35738EAA6E0BF01A24_element_130\")>\n"
     ]
    }
   ],
   "source": [
    "driver = _get_driver()\n",
    "# random url for tests\n",
    "url = url.format(30*random.randint(1, 10))\n",
    "print(url)\n",
    "driver.get(url)\n",
    "\n",
    "# Preme il bottone See all\n",
    "time.sleep(3)\n",
    "wait = WebDriverWait(driver, 50)\n",
    "wait.until(EC.element_to_be_clickable((By.XPATH, \"//span[contains(text(),'See all')]\"))).click()\n",
    "time.sleep(3)\n",
    "\n",
    "# print riquadro hotel\n",
    "for element in driver.find_elements('class name', 'listItem'):\n",
    "    print(element)\n",
    "    time.sleep(1)\n",
    "\n",
    "driver.quit()"
   ]
  },
  {
   "cell_type": "code",
   "execution_count": null,
   "metadata": {},
   "outputs": [],
   "source": [
    "driver.quit()"
   ]
  }
 ],
 "metadata": {
  "kernelspec": {
   "display_name": "nbenv",
   "language": "python",
   "name": "python3"
  },
  "language_info": {
   "codemirror_mode": {
    "name": "ipython",
    "version": 3
   },
   "file_extension": ".py",
   "mimetype": "text/x-python",
   "name": "python",
   "nbconvert_exporter": "python",
   "pygments_lexer": "ipython3",
   "version": "3.9.15"
  },
  "orig_nbformat": 4
 },
 "nbformat": 4,
 "nbformat_minor": 2
}
